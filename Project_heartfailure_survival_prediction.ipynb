{
 "cells": [
  {
   "cell_type": "code",
   "execution_count": 1,
   "id": "094e7e22",
   "metadata": {},
   "outputs": [],
   "source": [
    "import numpy as np\n",
    "import pandas as pd\n",
    "\n",
    "import os\n",
    "for dirname, _, filenames in os.walk(\"C:/Users/kazis/Downloads/heart_failure_clinical_records_dataset.csv\"):\n",
    "    for filename in filenames:\n",
    "        print(os.path.join(dirname, filename))"
   ]
  },
  {
   "cell_type": "code",
   "execution_count": 2,
   "id": "2fe5b63f",
   "metadata": {},
   "outputs": [
    {
     "name": "stdout",
     "output_type": "stream",
     "text": [
      "Collecting wolta\n",
      "  Downloading wolta-0.1.9-py3-none-any.whl (14 kB)\n",
      "Collecting imblearn\n",
      "  Downloading imblearn-0.0-py2.py3-none-any.whl (1.9 kB)\n",
      "Collecting hyperopt\n",
      "  Downloading hyperopt-0.2.7-py2.py3-none-any.whl (1.6 MB)\n",
      "     ---------------------------------------- 1.6/1.6 MB 7.2 MB/s eta 0:00:00\n",
      "Collecting catboost\n",
      "  Downloading catboost-1.2.5-cp39-cp39-win_amd64.whl (101.2 MB)\n",
      "     ------------------------------------- 101.2/101.2 MB 19.2 MB/s eta 0:00:00\n",
      "Requirement already satisfied: pandas in c:\\users\\kazis\\anaconda3\\lib\\site-packages (from wolta) (1.4.4)\n",
      "Requirement already satisfied: numpy in c:\\users\\kazis\\anaconda3\\lib\\site-packages (from wolta) (1.21.5)\n",
      "Requirement already satisfied: scikit-learn in c:\\users\\kazis\\anaconda3\\lib\\site-packages (from wolta) (1.0.2)\n",
      "Requirement already satisfied: six in c:\\users\\kazis\\anaconda3\\lib\\site-packages (from catboost->wolta) (1.16.0)\n",
      "Requirement already satisfied: scipy in c:\\users\\kazis\\anaconda3\\lib\\site-packages (from catboost->wolta) (1.9.1)\n",
      "Requirement already satisfied: plotly in c:\\users\\kazis\\anaconda3\\lib\\site-packages (from catboost->wolta) (5.9.0)\n",
      "Collecting graphviz\n",
      "  Downloading graphviz-0.20.3-py3-none-any.whl (47 kB)\n",
      "     ---------------------------------------- 47.1/47.1 kB ? eta 0:00:00\n",
      "Requirement already satisfied: matplotlib in c:\\users\\kazis\\anaconda3\\lib\\site-packages (from catboost->wolta) (3.5.2)\n",
      "Requirement already satisfied: python-dateutil>=2.8.1 in c:\\users\\kazis\\anaconda3\\lib\\site-packages (from pandas->wolta) (2.8.2)\n",
      "Requirement already satisfied: pytz>=2020.1 in c:\\users\\kazis\\anaconda3\\lib\\site-packages (from pandas->wolta) (2022.1)\n",
      "Requirement already satisfied: networkx>=2.2 in c:\\users\\kazis\\anaconda3\\lib\\site-packages (from hyperopt->wolta) (2.8.4)\n",
      "Collecting py4j\n",
      "  Downloading py4j-0.10.9.7-py2.py3-none-any.whl (200 kB)\n",
      "     ---------------------------------------- 200.5/200.5 kB ? eta 0:00:00\n",
      "Requirement already satisfied: tqdm in c:\\users\\kazis\\anaconda3\\lib\\site-packages (from hyperopt->wolta) (4.64.1)\n",
      "Requirement already satisfied: future in c:\\users\\kazis\\anaconda3\\lib\\site-packages (from hyperopt->wolta) (0.18.2)\n",
      "Requirement already satisfied: cloudpickle in c:\\users\\kazis\\anaconda3\\lib\\site-packages (from hyperopt->wolta) (2.0.0)\n",
      "Collecting imbalanced-learn\n",
      "  Downloading imbalanced_learn-0.12.2-py3-none-any.whl (257 kB)\n",
      "     ---------------------------------------- 258.0/258.0 kB ? eta 0:00:00\n",
      "Requirement already satisfied: threadpoolctl>=2.0.0 in c:\\users\\kazis\\anaconda3\\lib\\site-packages (from scikit-learn->wolta) (2.2.0)\n",
      "Requirement already satisfied: joblib>=0.11 in c:\\users\\kazis\\anaconda3\\lib\\site-packages (from scikit-learn->wolta) (1.1.0)\n",
      "Collecting joblib>=0.11\n",
      "  Downloading joblib-1.4.0-py3-none-any.whl (301 kB)\n",
      "     ---------------------------------------- 301.2/301.2 kB ? eta 0:00:00\n",
      "Requirement already satisfied: fonttools>=4.22.0 in c:\\users\\kazis\\anaconda3\\lib\\site-packages (from matplotlib->catboost->wolta) (4.25.0)\n",
      "Requirement already satisfied: packaging>=20.0 in c:\\users\\kazis\\anaconda3\\lib\\site-packages (from matplotlib->catboost->wolta) (21.3)\n",
      "Requirement already satisfied: pyparsing>=2.2.1 in c:\\users\\kazis\\anaconda3\\lib\\site-packages (from matplotlib->catboost->wolta) (3.0.9)\n",
      "Requirement already satisfied: kiwisolver>=1.0.1 in c:\\users\\kazis\\anaconda3\\lib\\site-packages (from matplotlib->catboost->wolta) (1.4.2)\n",
      "Requirement already satisfied: pillow>=6.2.0 in c:\\users\\kazis\\anaconda3\\lib\\site-packages (from matplotlib->catboost->wolta) (9.2.0)\n",
      "Requirement already satisfied: cycler>=0.10 in c:\\users\\kazis\\anaconda3\\lib\\site-packages (from matplotlib->catboost->wolta) (0.11.0)\n",
      "Requirement already satisfied: tenacity>=6.2.0 in c:\\users\\kazis\\anaconda3\\lib\\site-packages (from plotly->catboost->wolta) (8.0.1)\n",
      "Requirement already satisfied: colorama in c:\\users\\kazis\\anaconda3\\lib\\site-packages (from tqdm->hyperopt->wolta) (0.4.5)\n",
      "Installing collected packages: py4j, joblib, graphviz, hyperopt, imbalanced-learn, catboost, imblearn, wolta\n",
      "  Attempting uninstall: joblib\n",
      "    Found existing installation: joblib 1.1.0\n",
      "    Uninstalling joblib-1.1.0:\n",
      "      Successfully uninstalled joblib-1.1.0\n",
      "Successfully installed catboost-1.2.5 graphviz-0.20.3 hyperopt-0.2.7 imbalanced-learn-0.12.2 imblearn-0.0 joblib-1.4.0 py4j-0.10.9.7 wolta-0.1.9\n"
     ]
    }
   ],
   "source": [
    "!pip install wolta"
   ]
  },
  {
   "cell_type": "code",
   "execution_count": 3,
   "id": "cfd44fa7",
   "metadata": {},
   "outputs": [],
   "source": [
    "df = pd.read_csv('C:/Users/kazis/Downloads/heart_failure_clinical_records_dataset.csv')"
   ]
  },
  {
   "cell_type": "code",
   "execution_count": 4,
   "id": "caf6d562",
   "metadata": {},
   "outputs": [
    {
     "name": "stdout",
     "output_type": "stream",
     "text": [
      "age: float64\n",
      "anaemia: int64\n",
      "creatinine_phosphokinase: int64\n",
      "diabetes: int64\n",
      "ejection_fraction: int64\n",
      "high_blood_pressure: int64\n",
      "platelets: float64\n",
      "serum_creatinine: float64\n",
      "serum_sodium: int64\n",
      "sex: int64\n",
      "smoking: int64\n",
      "time: int64\n",
      "DEATH_EVENT: int64\n"
     ]
    }
   ],
   "source": [
    "from wolta.data_tools import col_types\n",
    "\n",
    "types = col_types(df, print_columns=True)"
   ]
  },
  {
   "cell_type": "code",
   "execution_count": 5,
   "id": "67b9da5b",
   "metadata": {},
   "outputs": [
    {
     "data": {
      "text/html": [
       "<div>\n",
       "<style scoped>\n",
       "    .dataframe tbody tr th:only-of-type {\n",
       "        vertical-align: middle;\n",
       "    }\n",
       "\n",
       "    .dataframe tbody tr th {\n",
       "        vertical-align: top;\n",
       "    }\n",
       "\n",
       "    .dataframe thead th {\n",
       "        text-align: right;\n",
       "    }\n",
       "</style>\n",
       "<table border=\"1\" class=\"dataframe\">\n",
       "  <thead>\n",
       "    <tr style=\"text-align: right;\">\n",
       "      <th></th>\n",
       "      <th>age</th>\n",
       "      <th>anaemia</th>\n",
       "      <th>creatinine_phosphokinase</th>\n",
       "      <th>diabetes</th>\n",
       "      <th>ejection_fraction</th>\n",
       "      <th>high_blood_pressure</th>\n",
       "      <th>platelets</th>\n",
       "      <th>serum_creatinine</th>\n",
       "      <th>serum_sodium</th>\n",
       "      <th>sex</th>\n",
       "      <th>smoking</th>\n",
       "      <th>time</th>\n",
       "      <th>DEATH_EVENT</th>\n",
       "    </tr>\n",
       "  </thead>\n",
       "  <tbody>\n",
       "    <tr>\n",
       "      <th>0</th>\n",
       "      <td>75.0</td>\n",
       "      <td>0</td>\n",
       "      <td>582</td>\n",
       "      <td>0</td>\n",
       "      <td>20</td>\n",
       "      <td>1</td>\n",
       "      <td>265000.00</td>\n",
       "      <td>1.9</td>\n",
       "      <td>130</td>\n",
       "      <td>1</td>\n",
       "      <td>0</td>\n",
       "      <td>4</td>\n",
       "      <td>1</td>\n",
       "    </tr>\n",
       "    <tr>\n",
       "      <th>1</th>\n",
       "      <td>55.0</td>\n",
       "      <td>0</td>\n",
       "      <td>7861</td>\n",
       "      <td>0</td>\n",
       "      <td>38</td>\n",
       "      <td>0</td>\n",
       "      <td>263358.03</td>\n",
       "      <td>1.1</td>\n",
       "      <td>136</td>\n",
       "      <td>1</td>\n",
       "      <td>0</td>\n",
       "      <td>6</td>\n",
       "      <td>1</td>\n",
       "    </tr>\n",
       "    <tr>\n",
       "      <th>2</th>\n",
       "      <td>65.0</td>\n",
       "      <td>0</td>\n",
       "      <td>146</td>\n",
       "      <td>0</td>\n",
       "      <td>20</td>\n",
       "      <td>0</td>\n",
       "      <td>162000.00</td>\n",
       "      <td>1.3</td>\n",
       "      <td>129</td>\n",
       "      <td>1</td>\n",
       "      <td>1</td>\n",
       "      <td>7</td>\n",
       "      <td>1</td>\n",
       "    </tr>\n",
       "    <tr>\n",
       "      <th>3</th>\n",
       "      <td>50.0</td>\n",
       "      <td>1</td>\n",
       "      <td>111</td>\n",
       "      <td>0</td>\n",
       "      <td>20</td>\n",
       "      <td>0</td>\n",
       "      <td>210000.00</td>\n",
       "      <td>1.9</td>\n",
       "      <td>137</td>\n",
       "      <td>1</td>\n",
       "      <td>0</td>\n",
       "      <td>7</td>\n",
       "      <td>1</td>\n",
       "    </tr>\n",
       "    <tr>\n",
       "      <th>4</th>\n",
       "      <td>65.0</td>\n",
       "      <td>1</td>\n",
       "      <td>160</td>\n",
       "      <td>1</td>\n",
       "      <td>20</td>\n",
       "      <td>0</td>\n",
       "      <td>327000.00</td>\n",
       "      <td>2.7</td>\n",
       "      <td>116</td>\n",
       "      <td>0</td>\n",
       "      <td>0</td>\n",
       "      <td>8</td>\n",
       "      <td>1</td>\n",
       "    </tr>\n",
       "  </tbody>\n",
       "</table>\n",
       "</div>"
      ],
      "text/plain": [
       "    age  anaemia  creatinine_phosphokinase  diabetes  ejection_fraction  \\\n",
       "0  75.0        0                       582         0                 20   \n",
       "1  55.0        0                      7861         0                 38   \n",
       "2  65.0        0                       146         0                 20   \n",
       "3  50.0        1                       111         0                 20   \n",
       "4  65.0        1                       160         1                 20   \n",
       "\n",
       "   high_blood_pressure  platelets  serum_creatinine  serum_sodium  sex  \\\n",
       "0                    1  265000.00               1.9           130    1   \n",
       "1                    0  263358.03               1.1           136    1   \n",
       "2                    0  162000.00               1.3           129    1   \n",
       "3                    0  210000.00               1.9           137    1   \n",
       "4                    0  327000.00               2.7           116    0   \n",
       "\n",
       "   smoking  time  DEATH_EVENT  \n",
       "0        0     4            1  \n",
       "1        0     6            1  \n",
       "2        1     7            1  \n",
       "3        0     7            1  \n",
       "4        0     8            1  "
      ]
     },
     "execution_count": 5,
     "metadata": {},
     "output_type": "execute_result"
    }
   ],
   "source": [
    "df.head()"
   ]
  },
  {
   "cell_type": "code",
   "execution_count": 6,
   "id": "3f8152b3",
   "metadata": {},
   "outputs": [
    {
     "data": {
      "text/plain": [
       "0    203\n",
       "1     96\n",
       "Name: DEATH_EVENT, dtype: int64"
      ]
     },
     "execution_count": 6,
     "metadata": {},
     "output_type": "execute_result"
    }
   ],
   "source": [
    "df['DEATH_EVENT'].value_counts()"
   ]
  },
  {
   "cell_type": "code",
   "execution_count": 7,
   "id": "53e6e437",
   "metadata": {},
   "outputs": [],
   "source": [
    "y = df['DEATH_EVENT'].values\n",
    "del df['DEATH_EVENT']\n",
    "X = df.values\n",
    "del df"
   ]
  },
  {
   "cell_type": "code",
   "execution_count": 8,
   "id": "2cb4c880",
   "metadata": {},
   "outputs": [],
   "source": [
    "from sklearn.model_selection import train_test_split\n",
    "\n",
    "X_train, X_test, y_train, y_test = train_test_split(X, y, test_size=0.2, random_state=42)\n",
    "del X, y"
   ]
  },
  {
   "cell_type": "code",
   "execution_count": 9,
   "id": "fe67ecde",
   "metadata": {},
   "outputs": [
    {
     "name": "stdout",
     "output_type": "stream",
     "text": [
      "Learning rate set to 0.087208\n",
      "0:\tlearn: 0.6658338\ttotal: 147ms\tremaining: 7.23s\n",
      "1:\tlearn: 0.6321421\ttotal: 149ms\tremaining: 3.59s\n",
      "2:\tlearn: 0.6053264\ttotal: 151ms\tremaining: 2.37s\n",
      "3:\tlearn: 0.5825698\ttotal: 153ms\tremaining: 1.76s\n",
      "4:\tlearn: 0.5610385\ttotal: 155ms\tremaining: 1.4s\n",
      "5:\tlearn: 0.5365179\ttotal: 157ms\tremaining: 1.15s\n",
      "6:\tlearn: 0.5179860\ttotal: 159ms\tremaining: 977ms\n",
      "7:\tlearn: 0.4962914\ttotal: 160ms\tremaining: 842ms\n",
      "8:\tlearn: 0.4822108\ttotal: 162ms\tremaining: 740ms\n",
      "9:\tlearn: 0.4671762\ttotal: 164ms\tremaining: 657ms\n",
      "10:\tlearn: 0.4539051\ttotal: 166ms\tremaining: 589ms\n",
      "11:\tlearn: 0.4435498\ttotal: 168ms\tremaining: 532ms\n",
      "12:\tlearn: 0.4319770\ttotal: 170ms\tremaining: 483ms\n",
      "13:\tlearn: 0.4188929\ttotal: 171ms\tremaining: 441ms\n",
      "14:\tlearn: 0.4083454\ttotal: 172ms\tremaining: 402ms\n",
      "15:\tlearn: 0.3978490\ttotal: 173ms\tremaining: 368ms\n",
      "16:\tlearn: 0.3899636\ttotal: 175ms\tremaining: 339ms\n",
      "17:\tlearn: 0.3846001\ttotal: 176ms\tremaining: 313ms\n",
      "18:\tlearn: 0.3748895\ttotal: 177ms\tremaining: 290ms\n",
      "19:\tlearn: 0.3682545\ttotal: 179ms\tremaining: 269ms\n",
      "20:\tlearn: 0.3591190\ttotal: 181ms\tremaining: 250ms\n",
      "21:\tlearn: 0.3516400\ttotal: 182ms\tremaining: 232ms\n",
      "22:\tlearn: 0.3442713\ttotal: 183ms\tremaining: 215ms\n",
      "23:\tlearn: 0.3388887\ttotal: 185ms\tremaining: 200ms\n",
      "24:\tlearn: 0.3329415\ttotal: 186ms\tremaining: 186ms\n",
      "25:\tlearn: 0.3274400\ttotal: 187ms\tremaining: 173ms\n",
      "26:\tlearn: 0.3226408\ttotal: 188ms\tremaining: 160ms\n",
      "27:\tlearn: 0.3182891\ttotal: 189ms\tremaining: 148ms\n",
      "28:\tlearn: 0.3137286\ttotal: 190ms\tremaining: 138ms\n",
      "29:\tlearn: 0.3089178\ttotal: 192ms\tremaining: 128ms\n",
      "30:\tlearn: 0.3057244\ttotal: 193ms\tremaining: 118ms\n",
      "31:\tlearn: 0.3018500\ttotal: 194ms\tremaining: 109ms\n",
      "32:\tlearn: 0.2970656\ttotal: 195ms\tremaining: 101ms\n",
      "33:\tlearn: 0.2935349\ttotal: 196ms\tremaining: 92.3ms\n",
      "34:\tlearn: 0.2900378\ttotal: 197ms\tremaining: 84.5ms\n",
      "35:\tlearn: 0.2878772\ttotal: 198ms\tremaining: 77.1ms\n",
      "36:\tlearn: 0.2849442\ttotal: 200ms\tremaining: 70.1ms\n",
      "37:\tlearn: 0.2817353\ttotal: 201ms\tremaining: 63.3ms\n",
      "38:\tlearn: 0.2792631\ttotal: 202ms\tremaining: 56.9ms\n",
      "39:\tlearn: 0.2733654\ttotal: 202ms\tremaining: 50.6ms\n",
      "40:\tlearn: 0.2716259\ttotal: 203ms\tremaining: 44.6ms\n",
      "41:\tlearn: 0.2683209\ttotal: 204ms\tremaining: 38.9ms\n",
      "42:\tlearn: 0.2652566\ttotal: 205ms\tremaining: 33.3ms\n",
      "43:\tlearn: 0.2621282\ttotal: 206ms\tremaining: 28.1ms\n",
      "44:\tlearn: 0.2599982\ttotal: 207ms\tremaining: 23ms\n",
      "45:\tlearn: 0.2574960\ttotal: 208ms\tremaining: 18.1ms\n",
      "46:\tlearn: 0.2533017\ttotal: 208ms\tremaining: 13.3ms\n",
      "47:\tlearn: 0.2501433\ttotal: 209ms\tremaining: 8.72ms\n",
      "48:\tlearn: 0.2481589\ttotal: 210ms\tremaining: 4.29ms\n",
      "49:\tlearn: 0.2455903\ttotal: 211ms\tremaining: 0us\n"
     ]
    }
   ],
   "source": [
    "from catboost import CatBoostClassifier as catboost\n",
    "\n",
    "model = catboost(iterations=50)\n",
    "model.fit(X_train, y_train)\n",
    "y_pred = model.predict(X_test)"
   ]
  },
  {
   "cell_type": "code",
   "execution_count": 10,
   "id": "26a605a3",
   "metadata": {},
   "outputs": [
    {
     "name": "stdout",
     "output_type": "stream",
     "text": [
      "Accuracy Score: 0.75\n",
      "Precision Score: 0.7756211180124223\n"
     ]
    }
   ],
   "source": [
    "from wolta.model_tools import get_score\n",
    "\n",
    "scores = get_score(y_test, y_pred, ['acc', 'precision'])"
   ]
  },
  {
   "cell_type": "code",
   "execution_count": 11,
   "id": "bbd76950",
   "metadata": {},
   "outputs": [
    {
     "name": "stdout",
     "output_type": "stream",
     "text": [
      "[0 0 0 1 0 0 0 0 1 0 0 0 0 0 1 1 0 0 1 0 0 0 0 1 1 0 0 0 0 0 1 0 1 1 1 1 0\n",
      " 0 0 0 0 0 0 0 0 0 0 0 0 0 0 0 0 0 0 0 0 1 0 1]\n"
     ]
    }
   ],
   "source": [
    "print(y_pred)"
   ]
  },
  {
   "cell_type": "code",
   "execution_count": null,
   "id": "795a19d0",
   "metadata": {},
   "outputs": [],
   "source": []
  }
 ],
 "metadata": {
  "kernelspec": {
   "display_name": "Python 3 (ipykernel)",
   "language": "python",
   "name": "python3"
  },
  "language_info": {
   "codemirror_mode": {
    "name": "ipython",
    "version": 3
   },
   "file_extension": ".py",
   "mimetype": "text/x-python",
   "name": "python",
   "nbconvert_exporter": "python",
   "pygments_lexer": "ipython3",
   "version": "3.9.13"
  }
 },
 "nbformat": 4,
 "nbformat_minor": 5
}
